{
 "cells": [
  {
   "attachments": {},
   "cell_type": "markdown",
   "metadata": {},
   "source": [
    "# My Analysis on Profitable App Profiles for the App Store and Google Play Markets\n",
    "<p> <img src= \"https://th.bing.com/th/id/R.a596c49ca2cc35b17afb8f7bb409d6e9?rik=FEj0zMShEH1Dmg&riu=http%3a%2f%2fwww.androidblogg.com%2fwp-content%2fuploads%2f2020%2f05%2fstore.png&ehk=DxTAb1otCmYQT6SjtlNtOqZqIBUus28lxDLpZEYRmqo%3d&risl=&pid=ImgRaw&r=0\"></p>\n",
    "\n",
    "## The goal for this project is to analyze data and find mobile app profiles that are profitable for the App Store and Google Play markets and likely to attract more users.\n",
    "\n",
    "## I'm going to use two data sets for this project:\n",
    "* [A dataset](https://www.kaggle.com/lava18/google-play-store-apps) containing data of about 10,000 Apps from Google Play; the data was collected in August 2018. The data can be found on [Here]( https://www.kaggle.com/lava18/google-play-store-apps), on Kaggle.\n",
    "\n",
    "* [A dataset](https://www.kaggle.com/datasets/ramamet4/app-store-apple-data-set-10k-apps) containing data of about 7,000 Apps from App Store; the data was collected in August 2018. The data can be found on [Here]( https://www.kaggle.com/lava18/google-play-store-apps), on Kaggle.\n"
   ]
  },
  {
   "attachments": {},
   "cell_type": "markdown",
   "metadata": {},
   "source": [
    "# I Start by opening the two data sets"
   ]
  },
  {
   "cell_type": "code",
   "execution_count": 23,
   "metadata": {},
   "outputs": [],
   "source": [
    "file = open(\"AppleStore.csv\", encoding='utf8')\n",
    "from csv import reader\n",
    "read_file = reader(file)\n",
    "Applestore_data = list(read_file)\n",
    "\n",
    "file = open(\"googleplaystore.csv\", encoding='utf8')\n",
    "from csv import reader\n",
    "read_file = reader(file)\n",
    "Playstore_data = list(read_file)"
   ]
  },
  {
   "attachments": {},
   "cell_type": "markdown",
   "metadata": {},
   "source": [
    "## In the cell below I define a function named explore_data() that can be used repeatedly to explore rows in a more readable way, and i also added a feature to show the number of rows and columns for any data set."
   ]
  },
  {
   "cell_type": "code",
   "execution_count": 24,
   "metadata": {},
   "outputs": [],
   "source": [
    "def explore_data(dataset, start, end, rows_and_columns=False):\n",
    "    dataset_slice = dataset[start:end]    \n",
    "    for row in dataset_slice:\n",
    "        print(row)\n",
    "        print('\\n')\n",
    "\n",
    "    if rows_and_columns:\n",
    "        print('Number of rows:', len(dataset))\n",
    "        print('Number of columns:', len(dataset[0]))"
   ]
  },
  {
   "attachments": {},
   "cell_type": "markdown",
   "metadata": {},
   "source": [
    "## Using the function to Explore the Data"
   ]
  },
  {
   "cell_type": "code",
   "execution_count": 25,
   "metadata": {},
   "outputs": [
    {
     "name": "stdout",
     "output_type": "stream",
     "text": [
      "['App', 'Category', 'Rating', 'Reviews', 'Size', 'Installs', 'Type', 'Price', 'Content Rating', 'Genres', 'Last Updated', 'Current Ver', 'Android Ver']\n",
      "\n",
      "\n",
      "['Photo Editor & Candy Camera & Grid & ScrapBook', 'ART_AND_DESIGN', '4.1', '159', '19M', '10,000+', 'Free', '0', 'Everyone', 'Art & Design', 'January 7, 2018', '1.0.0', '4.0.3 and up']\n",
      "\n",
      "\n",
      "['Coloring book moana', 'ART_AND_DESIGN', '3.9', '967', '14M', '500,000+', 'Free', '0', 'Everyone', 'Art & Design;Pretend Play', 'January 15, 2018', '2.0.0', '4.0.3 and up']\n",
      "\n",
      "\n",
      "Number of rows: 10842\n",
      "Number of columns: 13\n"
     ]
    }
   ],
   "source": [
    "print(Playstore_data[0])#Prints the header row from the dataset\n",
    "print(\"\\n\")\n",
    "explore_data(Playstore_data, 1,3,True)"
   ]
  },
  {
   "cell_type": "code",
   "execution_count": 26,
   "metadata": {},
   "outputs": [
    {
     "name": "stdout",
     "output_type": "stream",
     "text": [
      "['id', 'track_name', 'size_bytes', 'currency', 'price', 'rating_count_tot', 'rating_count_ver', 'user_rating', 'user_rating_ver', 'ver', 'cont_rating', 'prime_genre', 'sup_devices.num', 'ipadSc_urls.num', 'lang.num', 'vpp_lic']\n",
      "\n",
      "\n",
      "['284882215', 'Facebook', '389879808', 'USD', '0.0', '2974676', '212', '3.5', '3.5', '95.0', '4+', 'Social Networking', '37', '1', '29', '1']\n",
      "\n",
      "\n",
      "['389801252', 'Instagram', '113954816', 'USD', '0.0', '2161558', '1289', '4.5', '4.0', '10.23', '12+', 'Photo & Video', '37', '0', '29', '1']\n",
      "\n",
      "\n",
      "Number of rows: 7198\n",
      "Number of columns: 16\n"
     ]
    }
   ],
   "source": [
    "print(Applestore_data[0])#Prints the header row from the dataset\n",
    "print(\"\\n\")\n",
    "explore_data(Applestore_data, 1,3,True)"
   ]
  },
  {
   "attachments": {},
   "cell_type": "markdown",
   "metadata": {},
   "source": [
    "# Data Cleansing\n",
    "<p> <img src =\"https://www.expertcallers.com/blog/wp-content/uploads/2020/04/data-cleansing-services.jpg\" width = \"80%\" align=\"center\"></p>"
   ]
  },
  {
   "attachments": {},
   "cell_type": "markdown",
   "metadata": {},
   "source": [
    "On going through the Google Play data set dedicated discussion section, an error for row 10472, which is row 10473 in the data set, was outlined in one of the discussions."
   ]
  },
  {
   "cell_type": "code",
   "execution_count": 27,
   "metadata": {},
   "outputs": [
    {
     "name": "stdout",
     "output_type": "stream",
     "text": [
      "12\n",
      "13\n"
     ]
    }
   ],
   "source": [
    "print(len(Playstore_data[10473]))\n",
    "print(len(Playstore_data[10500]))"
   ]
  },
  {
   "attachments": {},
   "cell_type": "markdown",
   "metadata": {},
   "source": [
    "In the cell above i compared the length of row 10473 with another row to see the difference between the lengths.\n",
    "\n",
    "Below I'm now using a built in function `del()`, to delete that incomplete row."
   ]
  },
  {
   "cell_type": "code",
   "execution_count": 28,
   "metadata": {},
   "outputs": [
    {
     "name": "stdout",
     "output_type": "stream",
     "text": [
      "10841\n"
     ]
    }
   ],
   "source": [
    "del(Playstore_data[10473])\n",
    "print (len(Playstore_data))\n"
   ]
  },
  {
   "attachments": {},
   "cell_type": "markdown",
   "metadata": {},
   "source": [
    "From exploring the data i also noticed that some apps have some duplicate entries in the `Playstore_data`<br>\n",
    "Example Below:"
   ]
  },
  {
   "cell_type": "code",
   "execution_count": 29,
   "metadata": {},
   "outputs": [
    {
     "name": "stdout",
     "output_type": "stream",
     "text": [
      "['Google My Business', 'BUSINESS', '4.4', '70991', 'Varies with device', '5,000,000+', 'Free', '0', 'Everyone', 'Business', 'July 24, 2018', '2.19.0.204537701', '4.4 and up']\n",
      "['Google My Business', 'BUSINESS', '4.4', '70991', 'Varies with device', '5,000,000+', 'Free', '0', 'Everyone', 'Business', 'July 24, 2018', '2.19.0.204537701', '4.4 and up']\n",
      "['Google My Business', 'BUSINESS', '4.4', '70991', 'Varies with device', '5,000,000+', 'Free', '0', 'Everyone', 'Business', 'July 24, 2018', '2.19.0.204537701', '4.4 and up']\n"
     ]
    }
   ],
   "source": [
    "for rows in Playstore_data:\n",
    "    if rows[0] == \"Google My Business\":\n",
    "        print (rows)"
   ]
  },
  {
   "attachments": {},
   "cell_type": "markdown",
   "metadata": {},
   "source": [
    "I don't want to count certain apps more than once when analyzing the data, So im removing the duplicate entries and keeping only one entry per app.\n",
    "But rather than removing duplicates randomly, I'll keep only the row with the highest number of review.\n",
    " _The higher the number of reviews, the more recent the data should be._"
   ]
  },
  {
   "attachments": {},
   "cell_type": "markdown",
   "metadata": {},
   "source": [
    "# Removing Duplicate apps"
   ]
  },
  {
   "cell_type": "code",
   "execution_count": 30,
   "metadata": {},
   "outputs": [
    {
     "name": "stdout",
     "output_type": "stream",
     "text": [
      "1181\n",
      "9659\n"
     ]
    }
   ],
   "source": [
    "duplicate_apps = []\n",
    "unique_apps = []\n",
    "for row in Playstore_data[1:]:\n",
    "    x = row[0]\n",
    "    if x in unique_apps:\n",
    "        duplicate_apps.append(x)\n",
    "    else:\n",
    "        unique_apps.append(x)\n",
    "print(len(duplicate_apps))\n",
    "print(len(unique_apps))"
   ]
  },
  {
   "cell_type": "code",
   "execution_count": 31,
   "metadata": {},
   "outputs": [
    {
     "name": "stdout",
     "output_type": "stream",
     "text": [
      "['Quick PDF Scanner + OCR FREE', 'Box', 'Google My Business']\n"
     ]
    }
   ],
   "source": [
    "print(duplicate_apps[:3])"
   ]
  },
  {
   "cell_type": "code",
   "execution_count": 32,
   "metadata": {},
   "outputs": [
    {
     "name": "stdout",
     "output_type": "stream",
     "text": [
      "9659\n"
     ]
    }
   ],
   "source": [
    "reviews_max = {}\n",
    "for rows in Playstore_data[1:]:\n",
    "    names = rows[0]\n",
    "    n_reviews = float(rows[3])\n",
    "    if names in reviews_max and reviews_max[names] < n_reviews:\n",
    "        reviews_max[names] = n_reviews\n",
    "    elif names not in reviews_max:\n",
    "        reviews_max[names] = n_reviews\n",
    "print(len(reviews_max))\n",
    "# print(reviews_max)"
   ]
  },
  {
   "cell_type": "code",
   "execution_count": 33,
   "metadata": {},
   "outputs": [],
   "source": [
    "android_clean = []\n",
    "already_added = []\n",
    "\n",
    "for rows in Playstore_data[1:]:\n",
    "    name = rows[0]\n",
    "    n_reviews = float(rows[3])\n",
    "    if n_reviews == reviews_max[name] and name not in already_added:\n",
    "        android_clean.append(rows)\n",
    "        already_added.append(name)"
   ]
  },
  {
   "cell_type": "code",
   "execution_count": 34,
   "metadata": {},
   "outputs": [
    {
     "name": "stdout",
     "output_type": "stream",
     "text": [
      "['Photo Editor & Candy Camera & Grid & ScrapBook', 'ART_AND_DESIGN', '4.1', '159', '19M', '10,000+', 'Free', '0', 'Everyone', 'Art & Design', 'January 7, 2018', '1.0.0', '4.0.3 and up']\n",
      "\n",
      "\n",
      "['U Launcher Lite – FREE Live Cool Themes, Hide Apps', 'ART_AND_DESIGN', '4.7', '87510', '8.7M', '5,000,000+', 'Free', '0', 'Everyone', 'Art & Design', 'August 1, 2018', '1.2.4', '4.0.3 and up']\n",
      "\n",
      "\n",
      "['Sketch - Draw & Paint', 'ART_AND_DESIGN', '4.5', '215644', '25M', '50,000,000+', 'Free', '0', 'Teen', 'Art & Design', 'June 8, 2018', 'Varies with device', '4.2 and up']\n",
      "\n",
      "\n",
      "Number of rows: 9659\n",
      "Number of columns: 13\n"
     ]
    }
   ],
   "source": [
    "explore_data(android_clean, 0, 3, True)"
   ]
  },
  {
   "attachments": {},
   "cell_type": "markdown",
   "metadata": {},
   "source": [
    "## After removing the duplicates from the Playstore_data, im left with **9659 rows** and **13 Column** in the **android_clean** dataset."
   ]
  },
  {
   "attachments": {},
   "cell_type": "markdown",
   "metadata": {},
   "source": [
    "From exploring the both dataset android_clean and Applestore_data, i also noticed that there are some Non-English apps with names that suggest they are not designed for an English-speaking audience. But the analysis is only the only apps that are designed for an English-speaking audience, so I am removing them."
   ]
  },
  {
   "attachments": {},
   "cell_type": "markdown",
   "metadata": {},
   "source": [
    "English text usually includes letters from the English alphabet, numbers composed of digits from 0 to 9, punctuation marks (., !, ?, ;, etc.), and other symbols (+, *, /, etc.).<br>\n",
    "All these characters that are specific to English texts are encoded using the ASCII standard. Each ASCII character has a corresponding number between 0 and 127 associated with it.\n",
    "So im using that advantage to build a function `is_eng()` that checks an app name and tells us whether it contains non-ASCII characters."
   ]
  },
  {
   "attachments": {},
   "cell_type": "markdown",
   "metadata": {},
   "source": [
    "To minimize the impact of data loss, i'll tune the function to only remove an app if its name has more than three characters with corresponding numbers falling outside the ASCII range. \n",
    "<br>\n",
    "This means all English apps with up to three emoji or other special characters will still be labeled as English. The function is still not perfect, but it should be fairly effective."
   ]
  },
  {
   "cell_type": "code",
   "execution_count": 35,
   "metadata": {},
   "outputs": [],
   "source": [
    "def is_eng(x):\n",
    "    x = str(x)\n",
    "    z = 0\n",
    "    for y in x:\n",
    "        if ord(y) > 127:\n",
    "            z += 1\n",
    "    if z > 3:\n",
    "        return False\n",
    "    else:\n",
    "        return True\n",
    "    "
   ]
  },
  {
   "cell_type": "code",
   "execution_count": 36,
   "metadata": {},
   "outputs": [
    {
     "name": "stdout",
     "output_type": "stream",
     "text": [
      "True\n"
     ]
    }
   ],
   "source": [
    "print(is_eng('Docs To Go™ Free Office Suite'))"
   ]
  },
  {
   "attachments": {},
   "cell_type": "markdown",
   "metadata": {},
   "source": [
    "In the cell below, i am now using the `is_eng()` function to filter out the non-English apps for both data sets."
   ]
  },
  {
   "cell_type": "code",
   "execution_count": 37,
   "metadata": {},
   "outputs": [
    {
     "name": "stdout",
     "output_type": "stream",
     "text": [
      "9614\n"
     ]
    }
   ],
   "source": [
    "English_apps_android = []\n",
    "for row in android_clean:\n",
    "    name = row[0]\n",
    "    if is_eng(name):\n",
    "        English_apps_android.append(row)\n",
    "print(len(English_apps_android))"
   ]
  },
  {
   "cell_type": "code",
   "execution_count": 38,
   "metadata": {},
   "outputs": [
    {
     "name": "stdout",
     "output_type": "stream",
     "text": [
      "6183\n"
     ]
    }
   ],
   "source": [
    "English_apps_apple = []\n",
    "for row in Applestore_data[1:]:\n",
    "    name = row[1]\n",
    "    if is_eng(name):\n",
    "        English_apps_apple.append(row)\n",
    "print(len(English_apps_apple))"
   ]
  },
  {
   "attachments": {},
   "cell_type": "markdown",
   "metadata": {},
   "source": [
    "### After filtering out the Non-English apps, I'm now Left with 9614 Android apps and 6183 iOS Apps"
   ]
  },
  {
   "attachments": {},
   "cell_type": "markdown",
   "metadata": {},
   "source": [
    " These datasets still have to go through one more layer of filtering because the datasets contain both free and non-free apps; and for the analysis, i'll need to isolate only the free apps. That will be the last step in the data cleaning process."
   ]
  },
  {
   "cell_type": "code",
   "execution_count": 39,
   "metadata": {},
   "outputs": [
    {
     "name": "stdout",
     "output_type": "stream",
     "text": [
      "8864\n"
     ]
    }
   ],
   "source": [
    "Free_Eng_android = []\n",
    "for row in English_apps_android:\n",
    "    price = row[7]\n",
    "    if price == \"0.0\" or price == \"0\":\n",
    "        Free_Eng_android.append(row)\n",
    "print(len(Free_Eng_android))\n",
    "    "
   ]
  },
  {
   "cell_type": "code",
   "execution_count": 40,
   "metadata": {},
   "outputs": [
    {
     "name": "stdout",
     "output_type": "stream",
     "text": [
      "3222\n"
     ]
    }
   ],
   "source": [
    "Free_Eng_apple = []\n",
    "for row in English_apps_apple:\n",
    "    price = row[4]\n",
    "    if price == \"0.0\" or price == \"0\":\n",
    "        Free_Eng_apple.append(row)\n",
    "print(len(Free_Eng_apple))\n",
    "    "
   ]
  },
  {
   "attachments": {},
   "cell_type": "markdown",
   "metadata": {},
   "source": [
    "## So far in the Data Cleaning process, i have been able to:\n",
    "\n",
    "* Remove inaccurate data\n",
    "* Remove duplicate app entries\n",
    "* Remove non-English apps\n",
    "* Isolate the Free Apps\n",
    "<br>\n",
    "\n",
    "Which leaves me with **_8864_ Android apps** and **_3222_ iOS apps**, which should be enough for the analysis."
   ]
  },
  {
   "attachments": {},
   "cell_type": "markdown",
   "metadata": {},
   "source": [
    " <img src =\"https://th.bing.com/th/id/OIP.Hhhcsrwe6mvnWqvOjelUqgHaEK?pid=ImgDet&rs=1\" align =\"center\" width =\"80%\">"
   ]
  },
  {
   "attachments": {},
   "cell_type": "markdown",
   "metadata": {},
   "source": [
    "###  _The aim of this analysis is to determine the kinds of apps that are likely to attract more users both in the App Store and Google Playstore._"
   ]
  },
  {
   "attachments": {},
   "cell_type": "markdown",
   "metadata": {},
   "source": [
    "# PHASE 1 \n",
    "## Most Common Apps by Genre"
   ]
  },
  {
   "attachments": {},
   "cell_type": "markdown",
   "metadata": {},
   "source": [
    "I begin the analysis by getting a sense of the most common genres for each market, that is; app categories that are popular on both markets."
   ]
  },
  {
   "attachments": {},
   "cell_type": "markdown",
   "metadata": {},
   "source": [
    "For that im going to need to build two functions that will be used to analyze the Data sets:\n",
    "\n",
    "* The function `freq_table()` that will generate frequency tables of any column in the dataset.\n",
    "* Another function `display_table` that will be used to display the percentages in a descending order."
   ]
  },
  {
   "cell_type": "code",
   "execution_count": 41,
   "metadata": {},
   "outputs": [],
   "source": [
    "#Creates the Frequency Table\n",
    "def freq_table(dataset,column):\n",
    "    frequency_table = {}\n",
    "    total = 0\n",
    "    for row in dataset:\n",
    "        total +=1\n",
    "        x = row[column]\n",
    "        if x in frequency_table:\n",
    "            frequency_table[x] += 1\n",
    "        else:\n",
    "            frequency_table[x] = 1\n",
    "    table_percentages = {}\n",
    "    for key in frequency_table:\n",
    "        percentage = (frequency_table[key] / total) * 100\n",
    "        table_percentages[key] = percentage \n",
    "    \n",
    "    return table_percentages\n",
    "            \n",
    "#Displays the table in Descending Order\n",
    "def display_table(dataset, index):\n",
    "    table = freq_table(dataset, index)\n",
    "    table_display = []\n",
    "    for key in table:\n",
    "        key_val_as_tuple = (table[key], key)\n",
    "        table_display.append(key_val_as_tuple)\n",
    "\n",
    "    table_sorted = sorted(table_display, reverse = True)\n",
    "    from prettytable import PrettyTable\n",
    "\n",
    "    myTable = PrettyTable([\"GENRE\",  \"Frequency(%)\"])\n",
    " \n",
    "    for rows in table_sorted:\n",
    "        myTable.add_row([rows[1],rows[0]])\n",
    "    return myTable\n",
    "    "
   ]
  },
  {
   "attachments": {},
   "cell_type": "markdown",
   "metadata": {},
   "source": [
    "I am now generating a frequency table for the prime_genre column of the App Store Data set using the function `freq_table` i defined above."
   ]
  },
  {
   "cell_type": "code",
   "execution_count": 42,
   "metadata": {
    "scrolled": true
   },
   "outputs": [
    {
     "name": "stdout",
     "output_type": "stream",
     "text": [
      "{'Social Networking': 3.2898820608317814, 'Photo & Video': 4.9658597144630665, 'Games': 58.16263190564867, 'Music': 2.0484171322160147, 'Reference': 0.5586592178770949, 'Health & Fitness': 2.0173805090006205, 'Weather': 0.8690254500310366, 'Utilities': 2.5139664804469275, 'Travel': 1.2414649286157666, 'Shopping': 2.60707635009311, 'News': 1.3345747982619491, 'Navigation': 0.186219739292365, 'Lifestyle': 1.5828677839851024, 'Entertainment': 7.883302296710118, 'Food & Drink': 0.8069522036002483, 'Sports': 2.1415270018621975, 'Book': 0.4345127250155183, 'Finance': 1.1173184357541899, 'Education': 3.662321539416512, 'Productivity': 1.7380509000620732, 'Business': 0.5276225946617008, 'Catalogs': 0.12414649286157665, 'Medical': 0.186219739292365}\n"
     ]
    }
   ],
   "source": [
    "table = freq_table(Free_Eng_apple,11)\n",
    "print(table)\n"
   ]
  },
  {
   "attachments": {},
   "cell_type": "markdown",
   "metadata": {},
   "source": [
    "The display_table function will now be used to display them in descending order."
   ]
  },
  {
   "cell_type": "code",
   "execution_count": 43,
   "metadata": {},
   "outputs": [
    {
     "name": "stdout",
     "output_type": "stream",
     "text": [
      "+-------------------+---------------------+\n",
      "|       GENRE       |     Frequency(%)    |\n",
      "+-------------------+---------------------+\n",
      "|       Games       |  58.16263190564867  |\n",
      "|   Entertainment   |  7.883302296710118  |\n",
      "|   Photo & Video   |  4.9658597144630665 |\n",
      "|     Education     |  3.662321539416512  |\n",
      "| Social Networking |  3.2898820608317814 |\n",
      "|      Shopping     |   2.60707635009311  |\n",
      "|     Utilities     |  2.5139664804469275 |\n",
      "|       Sports      |  2.1415270018621975 |\n",
      "|       Music       |  2.0484171322160147 |\n",
      "|  Health & Fitness |  2.0173805090006205 |\n",
      "|    Productivity   |  1.7380509000620732 |\n",
      "|     Lifestyle     |  1.5828677839851024 |\n",
      "|        News       |  1.3345747982619491 |\n",
      "|       Travel      |  1.2414649286157666 |\n",
      "|      Finance      |  1.1173184357541899 |\n",
      "|      Weather      |  0.8690254500310366 |\n",
      "|    Food & Drink   |  0.8069522036002483 |\n",
      "|     Reference     |  0.5586592178770949 |\n",
      "|      Business     |  0.5276225946617008 |\n",
      "|        Book       |  0.4345127250155183 |\n",
      "|     Navigation    |  0.186219739292365  |\n",
      "|      Medical      |  0.186219739292365  |\n",
      "|      Catalogs     | 0.12414649286157665 |\n",
      "+-------------------+---------------------+\n"
     ]
    }
   ],
   "source": [
    "\n",
    "print(display_table(Free_Eng_apple,11))"
   ]
  },
  {
   "attachments": {},
   "cell_type": "markdown",
   "metadata": {},
   "source": [
    "To get a clearer picture,\n",
    "The frequency table will now be used to plot a Bar Chart"
   ]
  },
  {
   "cell_type": "code",
   "execution_count": 44,
   "metadata": {},
   "outputs": [
    {
     "name": "stderr",
     "output_type": "stream",
     "text": [
      "Matplotlib is building the font cache; this may take a moment.\n"
     ]
    },
    {
     "data": {
      "image/png": "[encoded data removed]",
      "text/plain": [
       "<Figure size 800x800 with 1 Axes>"
      ]
     },
     "metadata": {},
     "output_type": "display_data"
    }
   ],
   "source": [
    "labels =[]\n",
    "sizes = []\n",
    "small_label = \"others\"\n",
    "sizes_small = 0\n",
    "for x,y in table.items():\n",
    "    labels.append(x)\n",
    "    sizes.append(y)\n",
    "import matplotlib.pyplot as plt\n",
    "%matplotlib inline\n",
    "Colors = ['green','blue','purple','brown','teal']\n",
    "plt.figure(figsize=(8,8))\n",
    "plt.barh(labels,sizes, color=Colors)\n",
    "plt.title('Most Popular Genres in the Apple Store', fontsize=17)\n",
    "plt.xlabel('FREQUENCY', fontsize=14)\n",
    "plt.ylabel('GENRES', fontsize=14)\n",
    "#plt.xticks(fontsize=30)\n",
    "plt.show()"
   ]
  },
  {
   "attachments": {},
   "cell_type": "markdown",
   "metadata": {},
   "source": [
    "From this it can be seen that among the free English apps, more than a half (58.1%) are games. Entertainment apps are close to 8%, followed by photo and video apps, which amount for close to 5% of the apps in our data set.\n",
    "The general impression is that the App Store (at least the part containing free English apps) is dominated by apps that are designed for fun (games, entertainment, photo and video, social networking, sports, music, etc.), while apps with practical purposes (education, shopping, utilities, productivity, lifestyle, etc.) are more rare. \n",
    "However, the fact that fun apps are the most numerous doesn't also imply that they also have the greatest number of users — _The demand might not be the same as the Supply._\n"
   ]
  },
  {
   "attachments": {},
   "cell_type": "markdown",
   "metadata": {},
   "source": [
    "Repeating the same process for the Category column of the Google Play data set."
   ]
  },
  {
   "cell_type": "code",
   "execution_count": 45,
   "metadata": {
    "scrolled": false
   },
   "outputs": [
    {
     "name": "stdout",
     "output_type": "stream",
     "text": [
      "+---------------------+--------------------+\n",
      "|        GENRE        |    Frequency(%)    |\n",
      "+---------------------+--------------------+\n",
      "|        FAMILY       | 18.907942238267147 |\n",
      "|         GAME        | 9.724729241877256  |\n",
      "|        TOOLS        | 8.461191335740072  |\n",
      "|       BUSINESS      | 4.591606498194946  |\n",
      "|      LIFESTYLE      | 3.9034296028880866 |\n",
      "|     PRODUCTIVITY    | 3.892148014440433  |\n",
      "|       FINANCE       | 3.7003610108303246 |\n",
      "|       MEDICAL       | 3.531137184115524  |\n",
      "|        SPORTS       | 3.395758122743682  |\n",
      "|   PERSONALIZATION   | 3.3167870036101084 |\n",
      "|    COMMUNICATION    | 3.2378158844765346 |\n",
      "|  HEALTH_AND_FITNESS | 3.0798736462093865 |\n",
      "|     PHOTOGRAPHY     | 2.944494584837545  |\n",
      "|  NEWS_AND_MAGAZINES | 2.7978339350180503 |\n",
      "|        SOCIAL       | 2.6624548736462095 |\n",
      "|   TRAVEL_AND_LOCAL  |  2.33528880866426  |\n",
      "|       SHOPPING      | 2.2450361010830324 |\n",
      "| BOOKS_AND_REFERENCE | 2.1435018050541514 |\n",
      "|        DATING       | 1.861462093862816  |\n",
      "|    VIDEO_PLAYERS    | 1.7937725631768955 |\n",
      "| MAPS_AND_NAVIGATION | 1.3989169675090252 |\n",
      "|    FOOD_AND_DRINK   | 1.2409747292418771 |\n",
      "|      EDUCATION      | 1.1620036101083033 |\n",
      "|    ENTERTAINMENT    | 0.9589350180505415 |\n",
      "|  LIBRARIES_AND_DEMO | 0.9363718411552346 |\n",
      "|  AUTO_AND_VEHICLES  | 0.9250902527075812 |\n",
      "|    HOUSE_AND_HOME   | 0.8235559566787004 |\n",
      "|       WEATHER       | 0.8009927797833934 |\n",
      "|        EVENTS       | 0.7107400722021661 |\n",
      "|      PARENTING      | 0.6543321299638989 |\n",
      "|    ART_AND_DESIGN   | 0.6430505415162455 |\n",
      "|        COMICS       | 0.6204873646209386 |\n",
      "|        BEAUTY       | 0.5979241877256317 |\n",
      "+---------------------+--------------------+\n"
     ]
    }
   ],
   "source": [
    "table = freq_table(Free_Eng_android,1)\n",
    "print(display_table(Free_Eng_android,1))\n"
   ]
  },
  {
   "cell_type": "code",
   "execution_count": 46,
   "metadata": {},
   "outputs": [
    {
     "data": {
      "image/png": "[encoded data removed]",
      "text/plain": [
       "<Figure size 1000x1200 with 1 Axes>"
      ]
     },
     "metadata": {},
     "output_type": "display_data"
    }
   ],
   "source": [
    "labels =[]\n",
    "sizes = []\n",
    "for x,y in table.items():\n",
    "    labels.append(x)\n",
    "    sizes.append(y)\n",
    "Colors = ['green','blue','purple','brown','teal']\n",
    "plt.figure(figsize=(10,12))\n",
    "plt.barh(labels,sizes, color=Colors,align='center',)\n",
    "plt.title('Most Popular Category in the Play Store', fontsize=20)\n",
    "plt.xlabel('FREQUENCY', fontsize=15)\n",
    "plt.ylabel('CATEGORY', fontsize=15)\n",
    "#plt.xticks(rotation=90,fontsize=9)\n",
    "plt.show()"
   ]
  },
  {
   "attachments": {},
   "cell_type": "markdown",
   "metadata": {},
   "source": [
    "Things seem significantly different on Google Play Store: there are not that many apps designed for fun, A good number of apps are designed for practical purposes (family, tools, business, lifestyle, productivity, etc.)."
   ]
  },
  {
   "attachments": {},
   "cell_type": "markdown",
   "metadata": {},
   "source": [
    "Now, inspecting the Genre Column of the Google Play Store dataset which seem to be related to the Category Column.\n"
   ]
  },
  {
   "cell_type": "code",
   "execution_count": 47,
   "metadata": {},
   "outputs": [
    {
     "name": "stdout",
     "output_type": "stream",
     "text": [
      "+---------------------------------------+----------------------+\n",
      "|                 GENRE                 |     Frequency(%)     |\n",
      "+---------------------------------------+----------------------+\n",
      "|                 Tools                 |  8.449909747292418   |\n",
      "|             Entertainment             |  6.069494584837545   |\n",
      "|               Education               |  5.347472924187725   |\n",
      "|                Business               |  4.591606498194946   |\n",
      "|              Productivity             |  3.892148014440433   |\n",
      "|               Lifestyle               |  3.892148014440433   |\n",
      "|                Finance                |  3.7003610108303246  |\n",
      "|                Medical                |  3.531137184115524   |\n",
      "|                 Sports                |  3.463447653429603   |\n",
      "|            Personalization            |  3.3167870036101084  |\n",
      "|             Communication             |  3.2378158844765346  |\n",
      "|                 Action                |  3.1024368231046933  |\n",
      "|            Health & Fitness           |  3.0798736462093865  |\n",
      "|              Photography              |  2.944494584837545   |\n",
      "|            News & Magazines           |  2.7978339350180503  |\n",
      "|                 Social                |  2.6624548736462095  |\n",
      "|             Travel & Local            |  2.3240072202166067  |\n",
      "|                Shopping               |  2.2450361010830324  |\n",
      "|           Books & Reference           |  2.1435018050541514  |\n",
      "|               Simulation              |  2.0419675090252705  |\n",
      "|                 Dating                |  1.861462093862816   |\n",
      "|                 Arcade                |  1.8501805054151623  |\n",
      "|        Video Players & Editors        |  1.7712093862815883  |\n",
      "|                 Casual                |  1.7599277978339352  |\n",
      "|           Maps & Navigation           |  1.3989169675090252  |\n",
      "|              Food & Drink             |  1.2409747292418771  |\n",
      "|                 Puzzle                |  1.128158844765343   |\n",
      "|                 Racing                |  0.9927797833935018  |\n",
      "|              Role Playing             |  0.9363718411552346  |\n",
      "|            Libraries & Demo           |  0.9363718411552346  |\n",
      "|            Auto & Vehicles            |  0.9250902527075812  |\n",
      "|                Strategy               |  0.9138086642599278  |\n",
      "|              House & Home             |  0.8235559566787004  |\n",
      "|                Weather                |  0.8009927797833934  |\n",
      "|                 Events                |  0.7107400722021661  |\n",
      "|               Adventure               |  0.6768953068592057  |\n",
      "|                 Comics                |  0.6092057761732852  |\n",
      "|                 Beauty                |  0.5979241877256317  |\n",
      "|              Art & Design             |  0.5979241877256317  |\n",
      "|               Parenting               |  0.4963898916967509  |\n",
      "|                  Card                 | 0.45126353790613716  |\n",
      "|                 Casino                | 0.42870036101083037  |\n",
      "|                 Trivia                | 0.41741877256317694  |\n",
      "|         Educational;Education         |   0.39485559566787   |\n",
      "|                 Board                 |  0.3835740072202166  |\n",
      "|              Educational              |  0.3722924187725632  |\n",
      "|          Education;Education          | 0.33844765342960287  |\n",
      "|                  Word                 |  0.2594765342960289  |\n",
      "|          Casual;Pretend Play          |  0.236913357400722   |\n",
      "|                 Music                 |  0.2030685920577617  |\n",
      "|       Racing;Action & Adventure       | 0.16922382671480143  |\n",
      "|           Puzzle;Brain Games          | 0.16922382671480143  |\n",
      "|      Entertainment;Music & Video      | 0.16922382671480143  |\n",
      "|           Casual;Brain Games          | 0.13537906137184114  |\n",
      "|       Casual;Action & Adventure       | 0.13537906137184114  |\n",
      "|       Arcade;Action & Adventure       | 0.12409747292418773  |\n",
      "|       Action;Action & Adventure       | 0.10153429602888085  |\n",
      "|        Educational;Pretend Play       | 0.09025270758122744  |\n",
      "|     Simulation;Action & Adventure     |  0.078971119133574   |\n",
      "|          Parenting;Education          |  0.078971119133574   |\n",
      "|       Entertainment;Brain Games       |  0.078971119133574   |\n",
      "|           Board;Brain Games           |  0.078971119133574   |\n",
      "|        Parenting;Music & Video        | 0.06768953068592057  |\n",
      "|        Educational;Brain Games        | 0.06768953068592057  |\n",
      "|           Casual;Creativity           | 0.06768953068592057  |\n",
      "|        Art & Design;Creativity        | 0.06768953068592057  |\n",
      "|         Education;Pretend Play        | 0.056407942238267145 |\n",
      "|       Role Playing;Pretend Play       | 0.04512635379061372  |\n",
      "|          Education;Creativity         | 0.04512635379061372  |\n",
      "|    Role Playing;Action & Adventure    | 0.033844765342960284 |\n",
      "|       Puzzle;Action & Adventure       | 0.033844765342960284 |\n",
      "|        Entertainment;Creativity       | 0.033844765342960284 |\n",
      "|    Entertainment;Action & Adventure   | 0.033844765342960284 |\n",
      "|         Educational;Creativity        | 0.033844765342960284 |\n",
      "|     Educational;Action & Adventure    | 0.033844765342960284 |\n",
      "|        Education;Music & Video        | 0.033844765342960284 |\n",
      "|         Education;Brain Games         | 0.033844765342960284 |\n",
      "|      Education;Action & Adventure     | 0.033844765342960284 |\n",
      "|      Adventure;Action & Adventure     | 0.033844765342960284 |\n",
      "| Video Players & Editors;Music & Video | 0.02256317689530686  |\n",
      "|       Sports;Action & Adventure       | 0.02256317689530686  |\n",
      "|        Simulation;Pretend Play        | 0.02256317689530686  |\n",
      "|           Puzzle;Creativity           | 0.02256317689530686  |\n",
      "|          Music;Music & Video          | 0.02256317689530686  |\n",
      "|       Entertainment;Pretend Play      | 0.02256317689530686  |\n",
      "|            Casual;Education           | 0.02256317689530686  |\n",
      "|        Board;Action & Adventure       | 0.02256317689530686  |\n",
      "|   Video Players & Editors;Creativity  | 0.01128158844765343  |\n",
      "|            Trivia;Education           | 0.01128158844765343  |\n",
      "|   Travel & Local;Action & Adventure   | 0.01128158844765343  |\n",
      "|            Tools;Education            | 0.01128158844765343  |\n",
      "|           Strategy;Education          | 0.01128158844765343  |\n",
      "|          Strategy;Creativity          | 0.01128158844765343  |\n",
      "|      Strategy;Action & Adventure      | 0.01128158844765343  |\n",
      "|          Simulation;Education         | 0.01128158844765343  |\n",
      "|        Role Playing;Brain Games       | 0.01128158844765343  |\n",
      "|          Racing;Pretend Play          | 0.01128158844765343  |\n",
      "|            Puzzle;Education           | 0.01128158844765343  |\n",
      "|         Parenting;Brain Games         | 0.01128158844765343  |\n",
      "|      Music & Audio;Music & Video      | 0.01128158844765343  |\n",
      "|         Lifestyle;Pretend Play        | 0.01128158844765343  |\n",
      "|          Lifestyle;Education          | 0.01128158844765343  |\n",
      "|       Health & Fitness;Education      | 0.01128158844765343  |\n",
      "|  Health & Fitness;Action & Adventure  | 0.01128158844765343  |\n",
      "|        Entertainment;Education        | 0.01128158844765343  |\n",
      "|        Communication;Creativity       | 0.01128158844765343  |\n",
      "|           Comics;Creativity           | 0.01128158844765343  |\n",
      "|          Casual;Music & Video         | 0.01128158844765343  |\n",
      "|        Card;Action & Adventure        | 0.01128158844765343  |\n",
      "|      Books & Reference;Education      | 0.01128158844765343  |\n",
      "|       Art & Design;Pretend Play       | 0.01128158844765343  |\n",
      "|    Art & Design;Action & Adventure    | 0.01128158844765343  |\n",
      "|          Arcade;Pretend Play          | 0.01128158844765343  |\n",
      "|          Adventure;Education          | 0.01128158844765343  |\n",
      "+---------------------------------------+----------------------+\n"
     ]
    }
   ],
   "source": [
    "print(display_table(Free_Eng_android,-4))\n"
   ]
  },
  {
   "attachments": {},
   "cell_type": "markdown",
   "metadata": {},
   "source": [
    "There's no clear difference between the Genres and the Category columns of the Play Store Dataset, but one thing is that the Genres column is more granular and has more categories than the Categories Columns. <br>\n",
    "But because Im looking for the bigger picture at the moment, I'll only work with the Category column moving forward."
   ]
  },
  {
   "attachments": {},
   "cell_type": "markdown",
   "metadata": {},
   "source": [
    "### _Up to this point, its safe enough to say that the App Store is dominated by apps designed for fun, while Google Play shows a more balanced landscape of both practical and for-fun apps._  "
   ]
  },
  {
   "attachments": {},
   "cell_type": "markdown",
   "metadata": {},
   "source": [
    "# PHASE TWO\n",
    "# Most Popular Apps by Genre"
   ]
  },
  {
   "attachments": {},
   "cell_type": "markdown",
   "metadata": {},
   "source": [
    "The way im going to find out what genres have the most users is to calculate the average number of installs for each app genre. <br>For the Google Play data set, this information can be found in the Installs column, but it is missing for the App Store data set. <br>As a workaround, I'll take the total number of user ratings as a proxy, which can be found in the rating_count_tot column."
   ]
  },
  {
   "attachments": {},
   "cell_type": "markdown",
   "metadata": {},
   "source": [
    "I'm starting with calculating the average number of user ratings per app genre on the App Store."
   ]
  },
  {
   "cell_type": "code",
   "execution_count": 48,
   "metadata": {
    "scrolled": true
   },
   "outputs": [
    {
     "name": "stdout",
     "output_type": "stream",
     "text": [
      "+-------------------+--------------------+\n",
      "|       GENRE       |  Average Ratings   |\n",
      "+-------------------+--------------------+\n",
      "|     Navigation    | 86090.33333333333  |\n",
      "|     Reference     | 74942.11111111111  |\n",
      "| Social Networking | 71548.34905660378  |\n",
      "|       Music       | 57326.530303030304 |\n",
      "|      Weather      | 52279.892857142855 |\n",
      "|        Book       |      39758.5       |\n",
      "|    Food & Drink   | 33333.92307692308  |\n",
      "|      Finance      | 31467.944444444445 |\n",
      "|   Photo & Video   |    28441.54375     |\n",
      "|       Travel      |      28243.8       |\n",
      "|      Shopping     | 26919.690476190477 |\n",
      "|  Health & Fitness | 23298.015384615384 |\n",
      "|       Sports      | 23008.898550724636 |\n",
      "|       Games       |  22788.6696905016  |\n",
      "|        News       | 21248.023255813954 |\n",
      "|    Productivity   | 21028.410714285714 |\n",
      "|     Utilities     | 18684.456790123455 |\n",
      "|     Lifestyle     | 16485.764705882353 |\n",
      "|   Entertainment   | 14029.830708661417 |\n",
      "|      Business     | 7491.117647058823  |\n",
      "|     Education     | 7003.983050847458  |\n",
      "|      Catalogs     |       4004.0       |\n",
      "|      Medical      |       612.0        |\n",
      "+-------------------+--------------------+\n"
     ]
    }
   ],
   "source": [
    "table = freq_table(Free_Eng_apple,-5)\n",
    "avg_rating = {}\n",
    "for names in table:\n",
    "    total = 0\n",
    "    len_genre = 0\n",
    "    for rows in Free_Eng_apple:\n",
    "        genre_app = rows[-5]\n",
    "        if genre_app == names:\n",
    "            float_genre = float(rows[5])\n",
    "            total += float_genre\n",
    "            len_genre += 1\n",
    "    avg_genre_rating = total /len_genre\n",
    "    avg_rating[names]=avg_genre_rating\n",
    "table_display = []\n",
    "for key in avg_rating:\n",
    "    key_val_as_tuple = (avg_rating[key], key)\n",
    "    table_display.append(key_val_as_tuple)\n",
    "    table_sorted = sorted(table_display, reverse = True)\n",
    "from prettytable import PrettyTable\n",
    "myTable = PrettyTable([\"GENRE\",  \"Average Ratings\"])\n",
    " \n",
    "for key in table_sorted:\n",
    "    myTable.add_row([key[1],key[0]])\n",
    "print( myTable)"
   ]
  },
  {
   "attachments": {},
   "cell_type": "markdown",
   "metadata": {},
   "source": [
    "On an average, Navigation apps have the highest number of user reviews.."
   ]
  },
  {
   "attachments": {},
   "cell_type": "markdown",
   "metadata": {},
   "source": [
    "From exploring the apps under the navigation genre"
   ]
  },
  {
   "cell_type": "code",
   "execution_count": 49,
   "metadata": {
    "scrolled": true
   },
   "outputs": [
    {
     "name": "stdout",
     "output_type": "stream",
     "text": [
      "Waze - GPS Navigation, Maps & Real-time Traffic : 345046\n",
      "Google Maps - Navigation & Transit : 154911\n",
      "Geocaching® : 12811\n",
      "CoPilot GPS – Car Navigation & Offline Maps : 3582\n",
      "ImmobilienScout24: Real Estate Search in Germany : 187\n",
      "Railway Route Search : 5\n"
     ]
    }
   ],
   "source": [
    "for app in Free_Eng_apple:\n",
    "    if app[-5] == 'Navigation':\n",
    "        print(app[1], ':', app[5]) # print name and number of ratings"
   ]
  },
  {
   "attachments": {},
   "cell_type": "markdown",
   "metadata": {},
   "source": [
    "i can see that close to half a million user reviews on Google Maps and Waze have heavily influenced the average rating of this genre(Navigation)."
   ]
  },
  {
   "attachments": {},
   "cell_type": "markdown",
   "metadata": {},
   "source": [
    "Moving over to the second most highest rating: Reference Genre"
   ]
  },
  {
   "cell_type": "code",
   "execution_count": 50,
   "metadata": {
    "scrolled": true
   },
   "outputs": [
    {
     "name": "stdout",
     "output_type": "stream",
     "text": [
      "Bible : 985920\n",
      "Dictionary.com Dictionary & Thesaurus : 200047\n",
      "Dictionary.com Dictionary & Thesaurus for iPad : 54175\n",
      "Google Translate : 26786\n",
      "Muslim Pro: Ramadan 2017 Prayer Times, Azan, Quran : 18418\n",
      "New Furniture Mods - Pocket Wiki & Game Tools for Minecraft PC Edition : 17588\n",
      "Merriam-Webster Dictionary : 16849\n",
      "Night Sky : 12122\n",
      "City Maps for Minecraft PE - The Best Maps for Minecraft Pocket Edition (MCPE) : 8535\n",
      "LUCKY BLOCK MOD ™ for Minecraft PC Edition - The Best Pocket Wiki & Mods Installer Tools : 4693\n",
      "GUNS MODS for Minecraft PC Edition - Mods Tools : 1497\n",
      "Guides for Pokémon GO - Pokemon GO News and Cheats : 826\n",
      "WWDC : 762\n",
      "Horror Maps for Minecraft PE - Download The Scariest Maps for Minecraft Pocket Edition (MCPE) Free : 718\n",
      "VPN Express : 14\n",
      "Real Bike Traffic Rider Virtual Reality Glasses : 8\n",
      "教えて!goo : 0\n",
      "Jishokun-Japanese English Dictionary & Translator : 0\n"
     ]
    }
   ],
   "source": [
    "for app in Free_Eng_apple:\n",
    "    if app[-5] == 'Reference':\n",
    "        print(app[1], ':', app[5])"
   ]
  },
  {
   "attachments": {},
   "cell_type": "markdown",
   "metadata": {},
   "source": [
    "However, this genre seems to show some potential,even tho the Bible and Dictionary.com apps skewed up the average rating.<br> It fits well with the fact that the App Store is dominated by for-fun apps as seen in the First Phase of the analysis, which suggests the market might be a bit saturated with for-fun apps, which means that a practical app might have more of a chance to stand out among the huge number of apps on the App Store."
   ]
  },
  {
   "attachments": {},
   "cell_type": "markdown",
   "metadata": {},
   "source": [
    "On to the next Dataset; the Google Play Dataset.\n",
    "## Most Popular Apps by Genre on Google Play"
   ]
  },
  {
   "attachments": {},
   "cell_type": "markdown",
   "metadata": {},
   "source": [
    "For the Google Play market, data about the number of installs were given, which helps to get a clearer picture about genre popularity."
   ]
  },
  {
   "cell_type": "code",
   "execution_count": 51,
   "metadata": {
    "scrolled": true
   },
   "outputs": [
    {
     "data": {
      "text/plain": [
       "{'10,000+': 10.198555956678701,\n",
       " '5,000,000+': 6.825361010830325,\n",
       " '50,000,000+': 2.3014440433213,\n",
       " '100,000+': 11.552346570397113,\n",
       " '50,000+': 4.7721119133574,\n",
       " '1,000,000+': 15.726534296028879,\n",
       " '10,000,000+': 10.548285198555957,\n",
       " '5,000+': 4.512635379061372,\n",
       " '500,000+': 5.561823104693141,\n",
       " '1,000,000,000+': 0.22563176895306858,\n",
       " '100,000,000+': 2.1322202166064983,\n",
       " '1,000+': 8.393501805054152,\n",
       " '500,000,000+': 0.2707581227436823,\n",
       " '500+': 3.2490974729241873,\n",
       " '100+': 6.915613718411552,\n",
       " '50+': 1.917870036101083,\n",
       " '10+': 3.5424187725631766,\n",
       " '1+': 0.5076714801444043,\n",
       " '5+': 0.78971119133574,\n",
       " '0+': 0.04512635379061372,\n",
       " '0': 0.01128158844765343}"
      ]
     },
     "execution_count": 51,
     "metadata": {},
     "output_type": "execute_result"
    }
   ],
   "source": [
    "freq_table(Free_Eng_android, 5)"
   ]
  },
  {
   "attachments": {},
   "cell_type": "markdown",
   "metadata": {},
   "source": [
    "One problem with this data is that is not precise. For instance, I can't tell whether an app with 100,000+ installs has 100,000 installs or 200,000.\n",
    "I'm going to leave the numbers as they are, which means that an app with 100,000+ installs has 100,000 installs, and an app with 1,000,000+ installs has 1,000,000 installs, and so on."
   ]
  },
  {
   "attachments": {},
   "cell_type": "markdown",
   "metadata": {},
   "source": [
    "To compute the average number of installs for each genre (category), I will need to remove the commas and the plus characters and convert each install number to `float`. Which would be done in the loop below:"
   ]
  },
  {
   "cell_type": "code",
   "execution_count": 52,
   "metadata": {},
   "outputs": [
    {
     "name": "stdout",
     "output_type": "stream",
     "text": [
      "+---------------------+--------------------+\n",
      "|        GENRE        |    Frequency(%)    |\n",
      "+---------------------+--------------------+\n",
      "|    COMMUNICATION    | 38456119.167247385 |\n",
      "|    VIDEO_PLAYERS    | 24727872.452830188 |\n",
      "|        SOCIAL       | 23253652.127118643 |\n",
      "|     PHOTOGRAPHY     | 17840110.40229885  |\n",
      "|     PRODUCTIVITY    | 16787331.344927534 |\n",
      "|         GAME        | 15588015.603248259 |\n",
      "|   TRAVEL_AND_LOCAL  | 13984077.710144928 |\n",
      "|    ENTERTAINMENT    | 11640705.88235294  |\n",
      "|        TOOLS        | 10801391.298666667 |\n",
      "|  NEWS_AND_MAGAZINES | 9549178.467741935  |\n",
      "| BOOKS_AND_REFERENCE | 8767811.894736841  |\n",
      "|       SHOPPING      | 7036877.311557789  |\n",
      "|   PERSONALIZATION   | 5201482.6122448975 |\n",
      "|       WEATHER       | 5074486.197183099  |\n",
      "|  HEALTH_AND_FITNESS | 4188821.9853479853 |\n",
      "| MAPS_AND_NAVIGATION | 4056941.7741935486 |\n",
      "|        FAMILY       | 3695641.8198090694 |\n",
      "|        SPORTS       | 3638640.1428571427 |\n",
      "|    ART_AND_DESIGN   | 1986335.0877192982 |\n",
      "|    FOOD_AND_DRINK   | 1924897.7363636363 |\n",
      "|      EDUCATION      | 1833495.145631068  |\n",
      "|       BUSINESS      | 1712290.1474201474 |\n",
      "|      LIFESTYLE      | 1437816.2687861272 |\n",
      "|       FINANCE       | 1387692.475609756  |\n",
      "|    HOUSE_AND_HOME   | 1331540.5616438356 |\n",
      "|        DATING       | 854028.8303030303  |\n",
      "|        COMICS       | 817657.2727272727  |\n",
      "|  AUTO_AND_VEHICLES  | 647317.8170731707  |\n",
      "|  LIBRARIES_AND_DEMO |  638503.734939759  |\n",
      "|      PARENTING      | 542603.6206896552  |\n",
      "|        BEAUTY       | 513151.88679245283 |\n",
      "|        EVENTS       | 253542.22222222222 |\n",
      "|       MEDICAL       | 120550.61980830671 |\n",
      "+---------------------+--------------------+\n"
     ]
    }
   ],
   "source": [
    "table = freq_table(Free_Eng_android,1)\n",
    "table_2 = {}\n",
    "#Remove characters from strings\n",
    "for cat in table:\n",
    "    total = 0\n",
    "    len_category = 0\n",
    "    for rows in Free_Eng_android:\n",
    "        category = rows[1]\n",
    "        if category == cat:\n",
    "            inst = rows[5]\n",
    "            inst =inst.replace(\"+\",\"\")\n",
    "            inst =inst.replace(\",\" ,\"\")\n",
    "            inst = float(inst)\n",
    "            total += inst\n",
    "            len_category += 1\n",
    "    avg_inst = total / len_category\n",
    "    table_2[cat] = avg_inst\n",
    "#Sorts table in Descending Order    \n",
    "table_display = []\n",
    "for key in table_2:\n",
    "    key_val_as_tuple = (table_2[key], key)\n",
    "    table_display.append(key_val_as_tuple)\n",
    "    table_sorted = sorted(table_display, reverse = True)\n",
    "#Displays a Fancy Table    \n",
    "from prettytable import PrettyTable\n",
    "myTable = PrettyTable([\"GENRE\",  \"Average Installs\"])\n",
    "for rows in table_sorted:\n",
    "    myTable.add_row([rows[1],rows[0]])\n",
    "    \n",
    "print(myTable)"
   ]
  },
  {
   "attachments": {},
   "cell_type": "markdown",
   "metadata": {},
   "source": [
    "On average, communication apps have the most installs: 38,456,119. This number is heavily skewed up by a few apps that have over one billion installs (WhatsApp, Facebook Messenger, Skype, Google Chrome, Gmail, and Hangouts), and a few others with over 100 and 500 million installs:"
   ]
  },
  {
   "cell_type": "code",
   "execution_count": 53,
   "metadata": {},
   "outputs": [
    {
     "name": "stdout",
     "output_type": "stream",
     "text": [
      "WhatsApp Messenger : 1,000,000,000+\n",
      "imo beta free calls and text : 100,000,000+\n",
      "Android Messages : 100,000,000+\n",
      "Google Duo - High Quality Video Calls : 500,000,000+\n",
      "Messenger – Text and Video Chat for Free : 1,000,000,000+\n",
      "imo free video calls and chat : 500,000,000+\n",
      "Skype - free IM & video calls : 1,000,000,000+\n",
      "Who : 100,000,000+\n",
      "GO SMS Pro - Messenger, Free Themes, Emoji : 100,000,000+\n",
      "LINE: Free Calls & Messages : 500,000,000+\n",
      "Google Chrome: Fast & Secure : 1,000,000,000+\n",
      "Firefox Browser fast & private : 100,000,000+\n",
      "UC Browser - Fast Download Private & Secure : 500,000,000+\n",
      "Gmail : 1,000,000,000+\n",
      "Hangouts : 1,000,000,000+\n",
      "Messenger Lite: Free Calls & Messages : 100,000,000+\n",
      "Kik : 100,000,000+\n",
      "KakaoTalk: Free Calls & Text : 100,000,000+\n",
      "Opera Mini - fast web browser : 100,000,000+\n",
      "Opera Browser: Fast and Secure : 100,000,000+\n",
      "Telegram : 100,000,000+\n",
      "Truecaller: Caller ID, SMS spam blocking & Dialer : 100,000,000+\n",
      "UC Browser Mini -Tiny Fast Private & Secure : 100,000,000+\n",
      "Viber Messenger : 500,000,000+\n",
      "WeChat : 100,000,000+\n",
      "Yahoo Mail – Stay Organized : 100,000,000+\n",
      "BBM - Free Calls & Messages : 100,000,000+\n"
     ]
    }
   ],
   "source": [
    "for app in Free_Eng_android:\n",
    "    if app[1] == 'COMMUNICATION' and (app[5] == '1,000,000,000+'\n",
    "                                      or app[5] == '500,000,000+'\n",
    "                                      or app[5] == '100,000,000+'):\n",
    "        print(app[0], ':', app[5])"
   ]
  },
  {
   "attachments": {},
   "cell_type": "markdown",
   "metadata": {},
   "source": [
    "The same pattern can be found in the **Video Players** category, which is the runner-up with 24,727,872 installs. The market is dominated by apps like Youtube, Google Play Movies & TV, or MX Player.<br> The pattern is repeated for **Social Apps** (where we have giants like Facebook, Instagram, Google+, etc.), **Photography apps** (Google Photos and other popular photo editors), or **Productivity Apps** (Microsoft Word, Dropbox, Google Calendar, Evernote, etc.).<br>\n",
    "The main issue with these Genres(Category) is that these app genres might seem more popular than they really are, and these niches seem to be dominated by a few giants who are hard to compete against.<br>\n",
    "The **Game** genre seems pretty popular, but this part of the market seems a bit saturated as seen in the first phase, so it's best to come up with a different app recommendation.\n",
    "\n",
    "The **Books and Reference** genre looks fairly popular as well, with an average number of installs of 8,767,811. It's interesting to explore this in more depth, because this genre has some potential to work well on the App Store, and the aim is to recommend an app genre that shows potential for being profitable on both the App Store and Google Play.\n",
    "\n",
    "Taking a look at some of the apps from this genre(**Books and Reference genre**) and their number of installs:"
   ]
  },
  {
   "cell_type": "code",
   "execution_count": 54,
   "metadata": {},
   "outputs": [
    {
     "name": "stdout",
     "output_type": "stream",
     "text": [
      "E-Book Read - Read Book for free : 50,000+\n",
      "Download free book with green book : 100,000+\n",
      "Wikipedia : 10,000,000+\n",
      "Cool Reader : 10,000,000+\n",
      "Free Panda Radio Music : 100,000+\n",
      "Book store : 1,000,000+\n",
      "FBReader: Favorite Book Reader : 10,000,000+\n",
      "English Grammar Complete Handbook : 500,000+\n",
      "Free Books - Spirit Fanfiction and Stories : 1,000,000+\n",
      "Google Play Books : 1,000,000,000+\n",
      "AlReader -any text book reader : 5,000,000+\n",
      "Offline English Dictionary : 100,000+\n",
      "Offline: English to Tagalog Dictionary : 500,000+\n",
      "FamilySearch Tree : 1,000,000+\n",
      "Cloud of Books : 1,000,000+\n",
      "Recipes of Prophetic Medicine for free : 500,000+\n",
      "ReadEra – free ebook reader : 1,000,000+\n",
      "Anonymous caller detection : 10,000+\n",
      "Ebook Reader : 5,000,000+\n",
      "Litnet - E-books : 100,000+\n",
      "Read books online : 5,000,000+\n",
      "English to Urdu Dictionary : 500,000+\n",
      "eBoox: book reader fb2 epub zip : 1,000,000+\n",
      "English Persian Dictionary : 500,000+\n",
      "Flybook : 500,000+\n",
      "All Maths Formulas : 1,000,000+\n",
      "Ancestry : 5,000,000+\n",
      "HTC Help : 10,000,000+\n",
      "English translation from Bengali : 100,000+\n",
      "Pdf Book Download - Read Pdf Book : 100,000+\n",
      "Free Book Reader : 100,000+\n",
      "eBoox new: Reader for fb2 epub zip books : 50,000+\n",
      "Only 30 days in English, the guideline is guaranteed : 500,000+\n",
      "Moon+ Reader : 10,000,000+\n",
      "SH-02J Owner's Manual (Android 8.0) : 50,000+\n",
      "English-Myanmar Dictionary : 1,000,000+\n",
      "Golden Dictionary (EN-AR) : 1,000,000+\n",
      "All Language Translator Free : 1,000,000+\n",
      "Azpen eReader : 500,000+\n",
      "URBANO V 02 instruction manual : 100,000+\n",
      "Bible : 100,000,000+\n",
      "C Programs and Reference : 50,000+\n",
      "C Offline Tutorial : 1,000+\n",
      "C Programs Handbook : 50,000+\n",
      "Amazon Kindle : 100,000,000+\n",
      "Aab e Hayat Full Novel : 100,000+\n",
      "Aldiko Book Reader : 10,000,000+\n",
      "Google I/O 2018 : 500,000+\n",
      "R Language Reference Guide : 10,000+\n",
      "Learn R Programming Full : 5,000+\n",
      "R Programing Offline Tutorial : 1,000+\n",
      "Guide for R Programming : 5+\n",
      "Learn R Programming : 10+\n",
      "R Quick Reference Big Data : 1,000+\n",
      "V Made : 100,000+\n",
      "Wattpad 📖 Free Books : 100,000,000+\n",
      "Dictionary - WordWeb : 5,000,000+\n",
      "Guide (for X-MEN) : 100,000+\n",
      "AC Air condition Troubleshoot,Repair,Maintenance : 5,000+\n",
      "AE Bulletins : 1,000+\n",
      "Ae Allah na Dai (Rasa) : 10,000+\n",
      "50000 Free eBooks & Free AudioBooks : 5,000,000+\n",
      "Ag PhD Field Guide : 10,000+\n",
      "Ag PhD Deficiencies : 10,000+\n",
      "Ag PhD Planting Population Calculator : 1,000+\n",
      "Ag PhD Soybean Diseases : 1,000+\n",
      "Fertilizer Removal By Crop : 50,000+\n",
      "A-J Media Vault : 50+\n",
      "Al-Quran (Free) : 10,000,000+\n",
      "Al Quran (Tafsir & by Word) : 500,000+\n",
      "Al Quran Indonesia : 10,000,000+\n",
      "Al'Quran Bahasa Indonesia : 10,000,000+\n",
      "Al Quran Al karim : 1,000,000+\n",
      "Al-Muhaffiz : 50,000+\n",
      "Al Quran : EAlim - Translations & MP3 Offline : 5,000,000+\n",
      "Al-Quran 30 Juz free copies : 500,000+\n",
      "Koran Read &MP3 30 Juz Offline : 1,000,000+\n",
      "Hafizi Quran 15 lines per page : 1,000,000+\n",
      "Quran for Android : 10,000,000+\n",
      "Surah Al-Waqiah : 100,000+\n",
      "Hisnul Al Muslim - Hisn Invocations & Adhkaar : 100,000+\n",
      "Satellite AR : 1,000,000+\n",
      "Audiobooks from Audible : 100,000,000+\n",
      "Kinot & Eichah for Tisha B'Av : 10,000+\n",
      "AW Tozer Devotionals - Daily : 5,000+\n",
      "Tozer Devotional -Series 1 : 1,000+\n",
      "The Pursuit of God : 1,000+\n",
      "AY Sing : 5,000+\n",
      "Ay Hasnain k Nana Milad Naat : 10,000+\n",
      "Ay Mohabbat Teri Khatir Novel : 10,000+\n",
      "Arizona Statutes, ARS (AZ Law) : 1,000+\n",
      "Oxford A-Z of English Usage : 1,000,000+\n",
      "BD Fishpedia : 1,000+\n",
      "BD All Sim Offer : 10,000+\n",
      "Youboox - Livres, BD et magazines : 500,000+\n",
      "B&H Kids AR : 10,000+\n",
      "B y H Niños ES : 5,000+\n",
      "Dictionary.com: Find Definitions for English Words : 10,000,000+\n",
      "English Dictionary - Offline : 10,000,000+\n",
      "Bible KJV : 5,000,000+\n",
      "Borneo Bible, BM Bible : 10,000+\n",
      "MOD Black for BM : 100+\n",
      "BM Box : 1,000+\n",
      "Anime Mod for BM : 100+\n",
      "NOOK: Read eBooks & Magazines : 10,000,000+\n",
      "NOOK Audiobooks : 500,000+\n",
      "NOOK App for NOOK Devices : 500,000+\n",
      "Browsery by Barnes & Noble : 5,000+\n",
      "bp e-store : 1,000+\n",
      "Brilliant Quotes: Life, Love, Family & Motivation : 1,000,000+\n",
      "BR Ambedkar Biography & Quotes : 10,000+\n",
      "BU Alsace : 100+\n",
      "Catholic La Bu Zo Kam : 500+\n",
      "Khrifa Hla Bu (Solfa) : 10+\n",
      "Kristian Hla Bu : 10,000+\n",
      "SA HLA BU : 1,000+\n",
      "Learn SAP BW : 500+\n",
      "Learn SAP BW on HANA : 500+\n",
      "CA Laws 2018 (California Laws and Codes) : 5,000+\n",
      "Bootable Methods(USB-CD-DVD) : 10,000+\n",
      "cloudLibrary : 100,000+\n",
      "SDA Collegiate Quarterly : 500+\n",
      "Sabbath School : 100,000+\n",
      "Cypress College Library : 100+\n",
      "Stats Royale for Clash Royale : 1,000,000+\n",
      "GATE 21 years CS Papers(2011-2018 Solved) : 50+\n",
      "Learn CT Scan Of Head : 5,000+\n",
      "Easy Cv maker 2018 : 10,000+\n",
      "How to Write CV : 100,000+\n",
      "CW Nuclear : 1,000+\n",
      "CY Spray nozzle : 10+\n",
      "BibleRead En Cy Zh Yue : 5+\n",
      "CZ-Help : 5+\n",
      "Modlitební knížka CZ : 500+\n",
      "Guide for DB Xenoverse : 10,000+\n",
      "Guide for DB Xenoverse 2 : 10,000+\n",
      "Guide for IMS DB : 10+\n",
      "DC HSEMA : 5,000+\n",
      "DC Public Library : 1,000+\n",
      "Painting Lulu DC Super Friends : 1,000+\n",
      "Dictionary : 10,000,000+\n",
      "Fix Error Google Playstore : 1,000+\n",
      "D. H. Lawrence Poems FREE : 1,000+\n",
      "Bilingual Dictionary Audio App : 5,000+\n",
      "DM Screen : 10,000+\n",
      "wikiHow: how to do anything : 1,000,000+\n",
      "Dr. Doug's Tips : 1,000+\n",
      "Bible du Semeur-BDS (French) : 50,000+\n",
      "La citadelle du musulman : 50,000+\n",
      "DV 2019 Entry Guide : 10,000+\n",
      "DV 2019 - EDV Photo & Form : 50,000+\n",
      "DV 2018 Winners Guide : 1,000+\n",
      "EB Annual Meetings : 1,000+\n",
      "EC - AP & Telangana : 5,000+\n",
      "TN Patta Citta & EC : 10,000+\n",
      "AP Stamps and Registration : 10,000+\n",
      "CompactiMa EC pH Calibration : 100+\n",
      "EGW Writings 2 : 100,000+\n",
      "EGW Writings : 1,000,000+\n",
      "Bible with EGW Comments : 100,000+\n",
      "My Little Pony AR Guide : 1,000,000+\n",
      "SDA Sabbath School Quarterly : 500,000+\n",
      "Duaa Ek Ibaadat : 5,000+\n",
      "Spanish English Translator : 10,000,000+\n",
      "Dictionary - Merriam-Webster : 10,000,000+\n",
      "JW Library : 10,000,000+\n",
      "Oxford Dictionary of English : Free : 10,000,000+\n",
      "English Hindi Dictionary : 10,000,000+\n",
      "English to Hindi Dictionary : 5,000,000+\n",
      "EP Research Service : 1,000+\n",
      "Hymnes et Louanges : 100,000+\n",
      "EU Charter : 1,000+\n",
      "EU Data Protection : 1,000+\n",
      "EU IP Codes : 100+\n",
      "EW PDF : 5+\n",
      "BakaReader EX : 100,000+\n",
      "EZ Quran : 50,000+\n",
      "FA Part 1 & 2 Past Papers Solved Free – Offline : 5,000+\n",
      "La Fe de Jesus : 1,000+\n",
      "La Fe de Jesús : 500+\n",
      "Le Fe de Jesus : 500+\n",
      "Florida - Pocket Brainbook : 1,000+\n",
      "Florida Statutes (FL Code) : 1,000+\n",
      "English To Shona Dictionary : 10,000+\n",
      "Greek Bible FP (Audio) : 1,000+\n",
      "Golden Dictionary (FR-AR) : 500,000+\n",
      "Fanfic-FR : 5,000+\n",
      "Bulgarian French Dictionary Fr : 10,000+\n",
      "Chemin (fr) : 1,000+\n",
      "The SCP Foundation DB fr nn5n : 1,000+\n"
     ]
    }
   ],
   "source": [
    "for app in Free_Eng_android:\n",
    "    if app[1] == 'BOOKS_AND_REFERENCE':\n",
    "        print(app[0], ':', app[5])"
   ]
  },
  {
   "attachments": {},
   "cell_type": "markdown",
   "metadata": {},
   "source": [
    "The **Book and Reference** genre includes a variety of apps: software for processing and reading ebooks, various collections of libraries, dictionaries, etc. Let me check if there are extremely popular apps that skew the average:"
   ]
  },
  {
   "cell_type": "code",
   "execution_count": 55,
   "metadata": {},
   "outputs": [
    {
     "name": "stdout",
     "output_type": "stream",
     "text": [
      "Google Play Books : 1,000,000,000+\n",
      "Bible : 100,000,000+\n",
      "Amazon Kindle : 100,000,000+\n",
      "Wattpad 📖 Free Books : 100,000,000+\n",
      "Audiobooks from Audible : 100,000,000+\n"
     ]
    }
   ],
   "source": [
    "for app in Free_Eng_android:\n",
    "    if app[1] == 'BOOKS_AND_REFERENCE' and (app[5] == '1,000,000,000+'\n",
    "                                            or app[5] == '500,000,000+'\n",
    "                                            or app[5] == '100,000,000+'):\n",
    "        print(app[0], ':', app[5])"
   ]
  },
  {
   "attachments": {},
   "cell_type": "markdown",
   "metadata": {},
   "source": [
    "However, it looks like there is only one very popular app \"Google Play Books\" which has over a billion installs, so this market still shows potential.<br> In the cell below, im trying get some app ideas based on the kind of apps that are somewhere in the middle in terms of popularity that is; between 1,000,000 and 100,000,000 downloads):"
   ]
  },
  {
   "cell_type": "code",
   "execution_count": 56,
   "metadata": {},
   "outputs": [
    {
     "name": "stdout",
     "output_type": "stream",
     "text": [
      "Wikipedia : 10,000,000+\n",
      "Cool Reader : 10,000,000+\n",
      "Book store : 1,000,000+\n",
      "FBReader: Favorite Book Reader : 10,000,000+\n",
      "Free Books - Spirit Fanfiction and Stories : 1,000,000+\n",
      "AlReader -any text book reader : 5,000,000+\n",
      "FamilySearch Tree : 1,000,000+\n",
      "Cloud of Books : 1,000,000+\n",
      "ReadEra – free ebook reader : 1,000,000+\n",
      "Ebook Reader : 5,000,000+\n",
      "Read books online : 5,000,000+\n",
      "eBoox: book reader fb2 epub zip : 1,000,000+\n",
      "All Maths Formulas : 1,000,000+\n",
      "Ancestry : 5,000,000+\n",
      "HTC Help : 10,000,000+\n",
      "Moon+ Reader : 10,000,000+\n",
      "English-Myanmar Dictionary : 1,000,000+\n",
      "Golden Dictionary (EN-AR) : 1,000,000+\n",
      "All Language Translator Free : 1,000,000+\n",
      "Aldiko Book Reader : 10,000,000+\n",
      "Dictionary - WordWeb : 5,000,000+\n",
      "50000 Free eBooks & Free AudioBooks : 5,000,000+\n",
      "Al-Quran (Free) : 10,000,000+\n",
      "Al Quran Indonesia : 10,000,000+\n",
      "Al'Quran Bahasa Indonesia : 10,000,000+\n",
      "Al Quran Al karim : 1,000,000+\n",
      "Al Quran : EAlim - Translations & MP3 Offline : 5,000,000+\n",
      "Koran Read &MP3 30 Juz Offline : 1,000,000+\n",
      "Hafizi Quran 15 lines per page : 1,000,000+\n",
      "Quran for Android : 10,000,000+\n",
      "Satellite AR : 1,000,000+\n",
      "Oxford A-Z of English Usage : 1,000,000+\n",
      "Dictionary.com: Find Definitions for English Words : 10,000,000+\n",
      "English Dictionary - Offline : 10,000,000+\n",
      "Bible KJV : 5,000,000+\n",
      "NOOK: Read eBooks & Magazines : 10,000,000+\n",
      "Brilliant Quotes: Life, Love, Family & Motivation : 1,000,000+\n",
      "Stats Royale for Clash Royale : 1,000,000+\n",
      "Dictionary : 10,000,000+\n",
      "wikiHow: how to do anything : 1,000,000+\n",
      "EGW Writings : 1,000,000+\n",
      "My Little Pony AR Guide : 1,000,000+\n",
      "Spanish English Translator : 10,000,000+\n",
      "Dictionary - Merriam-Webster : 10,000,000+\n",
      "JW Library : 10,000,000+\n",
      "Oxford Dictionary of English : Free : 10,000,000+\n",
      "English Hindi Dictionary : 10,000,000+\n",
      "English to Hindi Dictionary : 5,000,000+\n"
     ]
    }
   ],
   "source": [
    "for app in Free_Eng_android:\n",
    "    if app[1] == 'BOOKS_AND_REFERENCE' and (app[5] == '1,000,000+'\n",
    "                                            or app[5] == '5,000,000+'\n",
    "                                            or app[5] == '10,000,000+'\n",
    "                                            or app[5] == '50,000,000+'):\n",
    "        print(app[0], ':', app[5])"
   ]
  },
  {
   "attachments": {},
   "cell_type": "markdown",
   "metadata": {},
   "source": [
    "From the Output above,this Genre(Category) seems to be dominated by software for processing and reading ebooks, as well as various collections of libraries and dictionaries, so it's probably not a good idea to build similar apps since there'll be some significant competition.\n",
    "\n",
    "But i also noticed that there are quite a few apps built around the book Quran, which implies that building an app around a popular book can be profitable."
   ]
  },
  {
   "attachments": {},
   "cell_type": "markdown",
   "metadata": {},
   "source": [
    "# CONCLUSION"
   ]
  },
  {
   "attachments": {},
   "cell_type": "markdown",
   "metadata": {},
   "source": [
    "In this project, I analyzed data about the App Store and Google Play mobile apps to recommend an app profile that can be profitable for both markets, and I have been able to conclude that:\n",
    "\n",
    "**Taking a popular book (perhaps a more recent book) and turning it into an app could be profitable for both the Google Play and the App Store markets**, but these markets are already full of libraries so some special features may need to be added to the app besides the raw version of the book, which might include daily quotes from the book, an audio version of the book, quizzes on the book, or a forum where people can discuss the book, etc."
   ]
  }
 ],
 "metadata": {
  "kernelspec": {
   "display_name": "Python 3.10.5 64-bit",
   "language": "python",
   "name": "python3"
  },
  "language_info": {
   "codemirror_mode": {
    "name": "ipython",
    "version": 3
   },
   "file_extension": ".py",
   "mimetype": "text/x-python",
   "name": "python",
   "nbconvert_exporter": "python",
   "pygments_lexer": "ipython3",
   "version": "3.10.6"
  },
  "vscode": {
   "interpreter": {
    "hash": "1f6604c8b8eb4a860edc5bf58014880863826415c166975f945ad6d271745e55"
   }
  }
 },
 "nbformat": 4,
 "nbformat_minor": 2
}
